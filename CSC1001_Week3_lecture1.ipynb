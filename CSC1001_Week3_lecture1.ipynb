{
  "nbformat": 4,
  "nbformat_minor": 0,
  "metadata": {
    "colab": {
      "provenance": [],
      "authorship_tag": "ABX9TyMoOyYUYM5Tc4/dJFwsguxX",
      "include_colab_link": true
    },
    "kernelspec": {
      "name": "python3",
      "display_name": "Python 3"
    },
    "language_info": {
      "name": "python"
    }
  },
  "cells": [
    {
      "cell_type": "markdown",
      "metadata": {
        "id": "view-in-github",
        "colab_type": "text"
      },
      "source": [
        "<a href=\"https://colab.research.google.com/github/zhizhengwu/csc1001/blob/main/CSC1001_Week3_lecture1.ipynb\" target=\"_parent\"><img src=\"https://colab.research.google.com/assets/colab-badge.svg\" alt=\"Open In Colab\"/></a>"
      ]
    },
    {
      "cell_type": "markdown",
      "source": [
        "# Week 3: Coding examples on flow control"
      ],
      "metadata": {
        "id": "RwL07ME-8rUD"
      }
    },
    {
      "cell_type": "markdown",
      "source": [
        "## Conditional flow"
      ],
      "metadata": {
        "id": "wkN8dENL9NNc"
      }
    },
    {
      "cell_type": "code",
      "execution_count": 13,
      "metadata": {
        "colab": {
          "base_uri": "https://localhost:8080/"
        },
        "id": "iRwrvFaI8eJv",
        "outputId": "591858b0-e742-4617-ba71-23c589d581b8"
      },
      "outputs": [
        {
          "output_type": "stream",
          "name": "stdout",
          "text": [
            "1.75\n",
            "True\n",
            "Height is:  1.75  Take a seat between row 3 and 10.\n",
            "finished\n"
          ]
        }
      ],
      "source": [
        "# an example of conditional flow\n",
        "\n",
        "height = float(input())\n",
        "\n",
        "if height == 1.75:\n",
        "  print(height == 1.75)\n",
        "\n",
        "if height > 1.75:\n",
        "  print(\"Height is: \", height, \" Take a seat in the last 10 rows.\")\n",
        "elif height > 1.6:\n",
        "  print(\"Height is: \", height, \" Take a seat between row 3 and 10.\")\n",
        "else:\n",
        "  print(\"Height is: \", height, \" Take a seat in the first 2 rows.\")\n",
        "\n",
        "print(\"finished\")\n",
        "\n"
      ]
    },
    {
      "cell_type": "markdown",
      "source": [
        "## Bool"
      ],
      "metadata": {
        "id": "tAoyqzR5G_K-"
      }
    },
    {
      "cell_type": "code",
      "source": [
        "\n",
        "x = 0; y = 0.0; z = 0 + 0j\n",
        "print(bool(x), bool(y), bool(z))\n",
        "\n",
        "x = -1; y = 1; z = 0 + 1j\n",
        "print(bool(x), bool(y), bool(z))\n",
        "\n",
        "x = \"\"; y=\"0\"\n",
        "print(bool(x), bool(y))\n",
        "\n",
        "x = []; y = [1];\n",
        "print(bool(x), bool(y))\n"
      ],
      "metadata": {
        "colab": {
          "base_uri": "https://localhost:8080/"
        },
        "id": "Gle-9TE18p-5",
        "outputId": "136dcf7e-7aa9-42eb-f6c4-adfce01b56ae"
      },
      "execution_count": 5,
      "outputs": [
        {
          "output_type": "stream",
          "name": "stdout",
          "text": [
            "False False False\n",
            "True True True\n",
            "False True\n",
            "False True\n"
          ]
        }
      ]
    },
    {
      "cell_type": "markdown",
      "source": [
        "## Logical operators"
      ],
      "metadata": {
        "id": "Fw9l7jPQJwOs"
      }
    },
    {
      "cell_type": "code",
      "source": [
        "print(\"not True: \", not True)\n",
        "print(\"not False: \", not False)\n",
        "print(\"False and True: \", False and True)\n",
        "print(\"False or True: \", False or True)\n"
      ],
      "metadata": {
        "colab": {
          "base_uri": "https://localhost:8080/"
        },
        "id": "ix5CJmyGHmYU",
        "outputId": "be23c53b-5f8c-416b-9e52-cd6f4310e363"
      },
      "execution_count": 6,
      "outputs": [
        {
          "output_type": "stream",
          "name": "stdout",
          "text": [
            "not True:  False\n",
            "not False:  True\n",
            "False and True:  False\n",
            "False or True:  True\n"
          ]
        }
      ]
    },
    {
      "cell_type": "code",
      "source": [],
      "metadata": {
        "id": "Ddmhzqx3KRNA"
      },
      "execution_count": null,
      "outputs": []
    }
  ]
}